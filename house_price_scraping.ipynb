{
 "cells": [
  {
   "cell_type": "code",
   "execution_count": 2,
   "metadata": {},
   "outputs": [],
   "source": [
    "import requests\n",
    "from bs4 import BeautifulSoup\n",
    "import pandas as pd"
   ]
  },
  {
   "cell_type": "code",
   "execution_count": 3,
   "metadata": {},
   "outputs": [],
   "source": [
    "base_url='https://nigeriapropertycentre.com'"
   ]
  },
  {
   "cell_type": "code",
   "execution_count": 4,
   "metadata": {},
   "outputs": [],
   "source": [
    "def get_links(page_start,page_end):\n",
    "    links=[]\n",
    "    for num in range(page_start,page_end):\n",
    "        re=requests.get(f'https://nigeriapropertycentre.com/for-sale/houses/showtype?page={num}')\n",
    "        soup=BeautifulSoup(re.content,'html')\n",
    "        houses=soup.find_all('div',class_='wp-block-title hidden-xs')\n",
    "        for prop in houses:\n",
    "            for link in prop.find_all('a',href=True):\n",
    "                links.append(base_url+link['href'])\n",
    "    return(links)"
   ]
  },
  {
   "cell_type": "code",
   "execution_count": 6,
   "metadata": {},
   "outputs": [],
   "source": [
    "def get_housing_details(func):\n",
    "    for link in func:\n",
    "        r=requests.get(link)\n",
    "        soup=BeautifulSoup(r.content,'html')\n",
    "\n",
    "\n",
    "        #Extracting house detils from the page\n",
    "        table=soup.find_all('tr')\n",
    "        row1=table[0].find_all('td')\n",
    "        row2=table[1].find_all('td')\n",
    "        try:\n",
    "            row3=table[2].find_all('td')\n",
    "        except IndexError:\n",
    "            continue\n",
    "        date_added=row1[1].text.split(':')[1]\n",
    "        date_last_updated=row1[2].text.split(':')[1]\n",
    "        market_status=row2[0].text.split(':')[1]\n",
    "        house_type=row2[1].text.split(':')[1]\n",
    "        bedroom=row2[2].text.split(':')[1]\n",
    "        bathroom=row3[0].text.split(':')[1]\n",
    "        toilet=row3[1].text.strip()\n",
    "        if toilet!='':\n",
    "            toilet=toilet.split(':')[1]\n",
    "        else:\n",
    "            toilet=''\n",
    "\n",
    "        parking_space=row3[2].text.strip()\n",
    "        if parking_space != '':\n",
    "            parking_space=parking_space.split(':')[1]\n",
    "        else:\n",
    "            parking_space=''\n",
    "\n",
    "\n",
    "        try:\n",
    "            price=soup.find('span',itemprop='price').text.strip()\n",
    "        except:\n",
    "            price=''\n",
    "        address=soup.find('address').text.strip()\n",
    "\n",
    "        prices.append(price)\n",
    "        addresses.append(address)\n",
    "        date_added1.append(date_added)\n",
    "        date_last_update.append(date_last_updated)\n",
    "        market_statuses.append(market_status)\n",
    "        bedrooms.append(bedroom)\n",
    "        bathrooms.append(bathroom)\n",
    "        toilets.append(toilet)\n",
    "        parking_spaces.append(parking_space)\n",
    "        house_types.append(house_type)\n"
   ]
  },
  {
   "cell_type": "code",
   "execution_count": 7,
   "metadata": {},
   "outputs": [],
   "source": [
    "house_df=pd.DataFrame()"
   ]
  },
  {
   "cell_type": "code",
   "execution_count": null,
   "metadata": {},
   "outputs": [],
   "source": [
    "page_start=1\n",
    "page_end=50\n",
    "df=pd.DataFrame()\n",
    "links=get_links(page_start,page_end)\n",
    "\n",
    "prices=[]\n",
    "addresses=[]\n",
    "date_added1=[]\n",
    "market_statuses=[]\n",
    "date_last_update=[]\n",
    "house_types=[]\n",
    "bedrooms=[]\n",
    "bathrooms=[]\n",
    "toilets=[]\n",
    "parking_spaces=[]\n",
    "\n",
    "house_features=get_housing_details(links)\n",
    "\n",
    "property_dict={'Prices(Naira)':prices,\n",
    "              'Address':addresses,\n",
    "              'Date_added':date_added1,\n",
    "              \"Date_last_updated\":date_last_update,\n",
    "              'Market_status':market_statuses,\n",
    "               'House_type':house_types,\n",
    "              'Bedrooms':bedrooms,\n",
    "              'Bathrooms':bathrooms,\n",
    "              'Toilets':toilets,\n",
    "              'Parking_space':parking_spaces}\n",
    "df=DataFrame(property_dict)\n",
    "\n",
    "house_df=pd.concat([house_df,df],axis=0)\n",
    "\n",
    "\n"
   ]
  },
  {
   "cell_type": "code",
   "execution_count": null,
   "metadata": {},
   "outputs": [],
   "source": [
    "house_df.info()"
   ]
  },
  {
   "cell_type": "code",
   "execution_count": null,
   "metadata": {},
   "outputs": [],
   "source": [
    "df.to_csv(r'C:\\Users\\user\\Desktop\\Nigeria_house_price.csv')"
   ]
  },
  {
   "cell_type": "code",
   "execution_count": null,
   "metadata": {},
   "outputs": [],
   "source": [
    "len(links)"
   ]
  },
  {
   "cell_type": "code",
   "execution_count": null,
   "metadata": {},
   "outputs": [],
   "source": []
  }
 ],
 "metadata": {
  "kernelspec": {
   "display_name": "Python 3",
   "language": "python",
   "name": "python3"
  },
  "language_info": {
   "codemirror_mode": {
    "name": "ipython",
    "version": 3
   },
   "file_extension": ".py",
   "mimetype": "text/x-python",
   "name": "python",
   "nbconvert_exporter": "python",
   "pygments_lexer": "ipython3",
   "version": "3.7.6"
  }
 },
 "nbformat": 4,
 "nbformat_minor": 4
}
